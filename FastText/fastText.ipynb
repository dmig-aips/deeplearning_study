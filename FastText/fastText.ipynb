{
 "cells": [
  {
   "cell_type": "markdown",
   "metadata": {},
   "source": [
    "# FastText\n",
    "- FastText: facebook Research에서 만든 패키지\n",
    "- word represnetation 방식으로 쓰임 \n",
    "\n",
    "특징\n",
    "- 비슷한 구조의 단어는 비슷한 vector를 갖도록 언어형태학적으로(Morpological) 단어를 subword로 나눠보는 기법 이용\n",
    "- FastText는 gensim 패키지에 포함되어 있다.\n",
    "\n",
    "장점\n",
    "- 비슷한 단어라도 데이터셋 중 비슷한 문장에 등장하지 않으면 비슷한 Vector를 가질 수 없던 Skipgram과 달리, 단어 그 자체로 판단할 수 있음 \n",
    "- 따라서 자주 등장하지 않거나, 특이한 단어도 비교적 정확한 임베딩을 할 수 있다.(skipgram은 문서집합에 존재하지 않는 단어는 Dictionary로 만들 수 없음). \n",
    "\n",
    "단점\n",
    "- 단, 하나의단어로 여러 개의 Subword로 계산해야 하므로 계산 복잡도는 높아질 수 있음\n"
   ]
  },
  {
   "cell_type": "markdown",
   "metadata": {},
   "source": [
    "Gensim의 FastText Documentation 참고\n",
    "- https://radimrehurek.com/gensim/models/fasttext.html#module-gensim.models.fasttext\n"
   ]
  },
  {
   "cell_type": "code",
   "execution_count": null,
   "metadata": {},
   "outputs": [],
   "source": [
    "# !git clone https://github.com/facebookresearch/fastText.git\n",
    "# !cd fastText\n",
    "# !make"
   ]
  },
  {
   "cell_type": "code",
   "execution_count": 67,
   "metadata": {},
   "outputs": [],
   "source": [
    "from gensim.models import FastText\n",
    "from gensim.test.utils import common_texts\n",
    "\n",
    "import numpy as np"
   ]
  },
  {
   "cell_type": "markdown",
   "metadata": {},
   "source": [
    "## prepare dataset"
   ]
  },
  {
   "cell_type": "code",
   "execution_count": 8,
   "metadata": {},
   "outputs": [],
   "source": [
    "# import pandas as pd\n",
    "# df_raw = pd.DataFrame('tworld_QA_dataset.csv')\n",
    "# # data 읽을 때 무의식적으로 pandas를 썼는데 -> 언어 처리할 때에는 단어 단위로 처리되므로 list가 더 편할듯"
   ]
  },
  {
   "cell_type": "code",
   "execution_count": 19,
   "metadata": {},
   "outputs": [
    {
     "name": "stdout",
     "output_type": "stream",
     "text": [
      "# sentences: 29087\n"
     ]
    }
   ],
   "source": [
    "with open('./tworld_QA_dataset.csv','r') as f:\n",
    "    lines = f.readlines()\n",
    "    raw_dataset = [st.split() for st in lines[1:]]\n",
    "\n",
    "print ('# sentences: {}'.format(len(raw_dataset)))"
   ]
  },
  {
   "cell_type": "code",
   "execution_count": 108,
   "metadata": {
    "scrolled": true
   },
   "outputs": [
    {
     "data": {
      "text/plain": [
       "['지원금',\n",
       " '얼마에요?',\n",
       " '★공시지원금',\n",
       " '및',\n",
       " '추가지원금(T지원금',\n",
       " '약정',\n",
       " '24개월)',\n",
       " '-공시지원금',\n",
       " ':',\n",
       " '[39,000]원',\n",
       " '-추가지원금',\n",
       " ':',\n",
       " '[5,800]원',\n",
       " '-할부원금',\n",
       " ':',\n",
       " '[1,098,100]원',\n",
       " '-월',\n",
       " '할부금:',\n",
       " '[48,619]원(연',\n",
       " '5.9%',\n",
       " '이자',\n",
       " '포함)',\n",
       " '-월',\n",
       " '청구',\n",
       " '예상금액',\n",
       " ':',\n",
       " '[76,570]원',\n",
       " '입니다.']"
      ]
     },
     "execution_count": 108,
     "metadata": {},
     "output_type": "execute_result"
    }
   ],
   "source": [
    "raw_dataset[0]"
   ]
  },
  {
   "cell_type": "code",
   "execution_count": 85,
   "metadata": {},
   "outputs": [],
   "source": [
    "model = FastText(size=4, window=3, min_count=10) # Window값이 Max값이므로 random으로 추출 "
   ]
  },
  {
   "cell_type": "code",
   "execution_count": 99,
   "metadata": {},
   "outputs": [],
   "source": [
    "?FastText"
   ]
  },
  {
   "cell_type": "code",
   "execution_count": 87,
   "metadata": {},
   "outputs": [],
   "source": [
    "model.build_vocab(sentences=raw_dataset)"
   ]
  },
  {
   "cell_type": "code",
   "execution_count": 88,
   "metadata": {},
   "outputs": [],
   "source": [
    "model.train(sentences=raw_dataset, total_examples=len(raw_dataset), epochs=10)"
   ]
  },
  {
   "cell_type": "code",
   "execution_count": 89,
   "metadata": {},
   "outputs": [
    {
     "data": {
      "text/plain": [
       "array([ 4.1240993 , -3.1608262 , -0.98567885,  2.0561411 ], dtype=float32)"
      ]
     },
     "execution_count": 89,
     "metadata": {},
     "output_type": "execute_result"
    }
   ],
   "source": [
    "model.wv['공시지원금']"
   ]
  },
  {
   "cell_type": "code",
   "execution_count": 91,
   "metadata": {},
   "outputs": [
    {
     "data": {
      "text/plain": [
       "array([ 1.5476242 , -1.8236573 , -0.87157905, -0.00842092], dtype=float32)"
      ]
     },
     "execution_count": 91,
     "metadata": {},
     "output_type": "execute_result"
    }
   ],
   "source": [
    "model.wv['공시']"
   ]
  },
  {
   "cell_type": "code",
   "execution_count": 93,
   "metadata": {},
   "outputs": [
    {
     "data": {
      "text/plain": [
       "array([ 4.2384195 , -6.761819  , -0.26639408,  4.077999  ], dtype=float32)"
      ]
     },
     "execution_count": 93,
     "metadata": {},
     "output_type": "execute_result"
    }
   ],
   "source": [
    "model.wv['할부']"
   ]
  },
  {
   "cell_type": "code",
   "execution_count": 42,
   "metadata": {},
   "outputs": [
    {
     "data": {
      "text/plain": [
       "False"
      ]
     },
     "execution_count": 42,
     "metadata": {},
     "output_type": "execute_result"
    }
   ],
   "source": [
    "'여행' in model.wv.vocab"
   ]
  },
  {
   "cell_type": "code",
   "execution_count": 45,
   "metadata": {},
   "outputs": [
    {
     "data": {
      "text/plain": [
       "True"
      ]
     },
     "execution_count": 45,
     "metadata": {},
     "output_type": "execute_result"
    }
   ],
   "source": [
    "'지원' in model.wv.vocab"
   ]
  },
  {
   "cell_type": "code",
   "execution_count": 100,
   "metadata": {},
   "outputs": [
    {
     "data": {
      "text/plain": [
       "[('요금제에', 0.9991218447685242),\n",
       " ('이상', 0.9925806522369385),\n",
       " ('원', 0.9920792579650879),\n",
       " ('할인받아', 0.9917137026786804),\n",
       " ('할인된', 0.9915709495544434),\n",
       " ('단말', 0.9914230108261108),\n",
       " ('할인', 0.9901081323623657),\n",
       " ('할인을', 0.9900158643722534),\n",
       " ('할인받는', 0.9890799522399902),\n",
       " ('지원금', 0.9889933466911316)]"
      ]
     },
     "execution_count": 100,
     "metadata": {},
     "output_type": "execute_result"
    }
   ],
   "source": [
    "model.wv.most_similar(positive=['공시지원금'])"
   ]
  },
  {
   "cell_type": "code",
   "execution_count": 101,
   "metadata": {},
   "outputs": [
    {
     "data": {
      "text/plain": [
       "[('단말', 0.9986444711685181),\n",
       " ('카드', 0.9958974123001099),\n",
       " ('원', 0.9954019784927368),\n",
       " ('할부원금', 0.9942946434020996),\n",
       " ('이상', 0.9935876131057739),\n",
       " ('최대', 0.9921643137931824),\n",
       " ('원금', 0.990845799446106),\n",
       " ('-공시지원금', 0.9908434152603149),\n",
       " ('선택약정25%', 0.9895755052566528),\n",
       " ('월', 0.9891493320465088)]"
      ]
     },
     "execution_count": 101,
     "metadata": {},
     "output_type": "execute_result"
    }
   ],
   "source": [
    "model.wv.most_similar(positive=['지원금'])"
   ]
  },
  {
   "cell_type": "code",
   "execution_count": 48,
   "metadata": {},
   "outputs": [
    {
     "data": {
      "text/plain": [
       "[('지원방식에', 0.9999197721481323),\n",
       " ('요금할인(선택약정)말씀이면', 0.9998986124992371),\n",
       " ('기준에', 0.9998435974121094),\n",
       " ('선택약정할인24개월(지원금에', 0.9997772574424744),\n",
       " ('29요금에', 0.9997578859329224),\n",
       " ('납부금', 0.9997292757034302),\n",
       " ('지원금액이', 0.999728798866272),\n",
       " ('지원방식도', 0.9997179508209229),\n",
       " ('지원해', 0.9997169971466064),\n",
       " ('요금할인(25%)', 0.999666690826416)]"
      ]
     },
     "execution_count": 48,
     "metadata": {},
     "output_type": "execute_result"
    }
   ],
   "source": [
    "model.wv.most_similar(positive=['지원'])"
   ]
  },
  {
   "cell_type": "code",
   "execution_count": 102,
   "metadata": {},
   "outputs": [
    {
     "data": {
      "text/plain": [
       "0.06559783220291138"
      ]
     },
     "execution_count": 102,
     "metadata": {},
     "output_type": "execute_result"
    }
   ],
   "source": [
    "model.wv.distance('지원금','할부')"
   ]
  },
  {
   "cell_type": "code",
   "execution_count": 103,
   "metadata": {},
   "outputs": [
    {
     "data": {
      "text/plain": [
       "0.11265683174133301"
      ]
     },
     "execution_count": 103,
     "metadata": {},
     "output_type": "execute_result"
    }
   ],
   "source": [
    "model.wv.distance('지원금','약정')"
   ]
  },
  {
   "cell_type": "code",
   "execution_count": 105,
   "metadata": {},
   "outputs": [
    {
     "data": {
      "text/plain": [
       "0.9673444963991642"
      ]
     },
     "execution_count": 105,
     "metadata": {},
     "output_type": "execute_result"
    }
   ],
   "source": [
    "model.wv.distance('지원금','엄마')"
   ]
  }
 ],
 "metadata": {
  "kernelspec": {
   "display_name": "Python 3",
   "language": "python",
   "name": "python3"
  },
  "language_info": {
   "codemirror_mode": {
    "name": "ipython",
    "version": 3
   },
   "file_extension": ".py",
   "mimetype": "text/x-python",
   "name": "python",
   "nbconvert_exporter": "python",
   "pygments_lexer": "ipython3",
   "version": "3.6.5"
  }
 },
 "nbformat": 4,
 "nbformat_minor": 2
}
