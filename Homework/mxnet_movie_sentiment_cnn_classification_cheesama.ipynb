{
 "cells": [
  {
   "cell_type": "code",
   "execution_count": 18,
   "metadata": {
    "scrolled": true
   },
   "outputs": [],
   "source": [
    "from mxnet import gluon, init, nd\n",
    "from mxnet.contrib import text\n",
    "from mxnet.gluon import loss as gloss, nn\n",
    "\n",
    "import sys\n",
    "import mxnet as mx"
   ]
  },
  {
   "cell_type": "code",
   "execution_count": 2,
   "metadata": {},
   "outputs": [],
   "source": [
    "def corr1d(X, K):\n",
    "    w = K.shape[0]\n",
    "    Y = nd.zeros((X.shape[0] - w + 1))\n",
    "    for i in range(Y.shape[0]):\n",
    "        Y[i] = (X[i: i + w] * K).sum()\n",
    "    return Y"
   ]
  },
  {
   "cell_type": "code",
   "execution_count": 3,
   "metadata": {},
   "outputs": [
    {
     "data": {
      "text/plain": [
       "\n",
       "[ 2.  5.  8. 11. 14. 17.]\n",
       "<NDArray 6 @cpu(0)>"
      ]
     },
     "execution_count": 3,
     "metadata": {},
     "output_type": "execute_result"
    }
   ],
   "source": [
    "X, K = nd.array([0, 1, 2, 3, 4, 5, 6]), nd.array([1, 2])\n",
    "corr1d(X, K)"
   ]
  },
  {
   "cell_type": "code",
   "execution_count": 4,
   "metadata": {},
   "outputs": [],
   "source": [
    "def corr1d_multi_in(X, K):\n",
    "    # First, we traverse along the 0th dimension (channel dimension) of X and\n",
    "    # K. Then, we add them together by using * to turn the result list into a\n",
    "    # positional argument of the add_n function\n",
    "    return nd.add_n(*[corr1d(x, k) for x, k in zip(X, K)])"
   ]
  },
  {
   "cell_type": "code",
   "execution_count": 5,
   "metadata": {},
   "outputs": [
    {
     "data": {
      "text/plain": [
       "\n",
       "[ 2.  8. 14. 20. 26. 32.]\n",
       "<NDArray 6 @cpu(0)>"
      ]
     },
     "execution_count": 5,
     "metadata": {},
     "output_type": "execute_result"
    }
   ],
   "source": [
    "X = nd.array([[0, 1, 2, 3, 4, 5, 6],\n",
    "              [1, 2, 3, 4, 5, 6, 7],\n",
    "              [2, 3, 4, 5, 6, 7, 8]])\n",
    "K = nd.array([[1, 2], [3, 4], [-1, -3]])\n",
    "corr1d_multi_in(X, K)"
   ]
  },
  {
   "cell_type": "code",
   "execution_count": 6,
   "metadata": {},
   "outputs": [],
   "source": [
    "class TextCNN(nn.Block):\n",
    "    def __init__(self, vocab_size, embed_size, kernel_sizes, num_channels,\n",
    "                 **kwargs):\n",
    "        super(TextCNN, self).__init__(**kwargs)\n",
    "        self.embedding = nn.Embedding(vocab_size, embed_size)\n",
    "        # The embedding layer does not participate in training\n",
    "        self.constant_embedding = nn.Embedding(vocab_size, embed_size)\n",
    "        self.dropout = nn.Dropout(0.5)\n",
    "        self.decoder = nn.Dense(2)\n",
    "        # The max-over-time pooling layer has no weight, so it can share an\n",
    "        # instance\n",
    "        self.pool = nn.GlobalMaxPool1D()\n",
    "        # Create multiple one-dimensional convolutional layers\n",
    "        self.convs = nn.Sequential()\n",
    "        for c, k in zip(num_channels, kernel_sizes):\n",
    "            self.convs.add(nn.Conv1D(c, k, activation='relu'))\n",
    "\n",
    "    def forward(self, inputs):\n",
    "        # Concatenate the output of two embedding layers with shape of\n",
    "        # (batch size, number of words, word vector dimension) by word vector\n",
    "        embeddings = nd.concat(\n",
    "            self.embedding(inputs), self.constant_embedding(inputs), dim=2)\n",
    "        # According to the input format required by Conv1D, the word vector\n",
    "        # dimension, that is, the channel dimension of the one-dimensional\n",
    "        # convolutional layer, is transformed into the previous dimension\n",
    "        embeddings = embeddings.transpose((0, 2, 1))\n",
    "        # For each one-dimensional convolutional layer, after max-over-time\n",
    "        # pooling, an NDArray with the shape of (batch size, channel size, 1)\n",
    "        # can be obtained. Use the flatten function to remove the last\n",
    "        # dimension and then concatenate on the channel dimension\n",
    "        encoding = nd.concat(*[nd.flatten(\n",
    "            self.pool(conv(embeddings))) for conv in self.convs], dim=1)\n",
    "        # After applying the dropout method, use a fully connected layer to\n",
    "        # obtain the output\n",
    "        outputs = self.decoder(self.dropout(encoding))\n",
    "        return outputs"
   ]
  },
  {
   "cell_type": "code",
   "execution_count": 7,
   "metadata": {},
   "outputs": [],
   "source": [
    "import pandas as pd\n",
    "\n",
    "train_data = pd.read_csv('ratings_train.txt', sep='\\t').dropna(axis=0)\n",
    "train_data.head()\n",
    "train_corpus = train_data['document']"
   ]
  },
  {
   "cell_type": "code",
   "execution_count": 8,
   "metadata": {},
   "outputs": [],
   "source": [
    "# co-occurrence matrix generate\n",
    "from sklearn.feature_extraction.text import CountVectorizer\n",
    "\n",
    "vectorizer = CountVectorizer(min_df=10, ngram_range=(1,1))\n",
    "X = vectorizer.fit_transform(train_corpus)\n",
    "Xc = X.T * X             # co-occurrence matrix\n",
    "Xc.setdiag(0)            #대각성분을 0으로\n",
    "result = Xc.toarray()    # array로 변환\n",
    "dic = {}\n",
    "for idx1, word1 in enumerate(result):\n",
    "    tmpdic = {}\n",
    "    for idx2, word2 in enumerate(word1):\n",
    "        if word2 > 0:\n",
    "            tmpdic[idx2] = word2\n",
    "    dic[idx1] = tmpdic"
   ]
  },
  {
   "cell_type": "code",
   "execution_count": 9,
   "metadata": {},
   "outputs": [],
   "source": [
    "# 단어 리스트 작성\n",
    "import operator\n",
    "vocab = sorted(vectorizer.vocabulary_.items(), key=operator.itemgetter(1))\n",
    "vocab = [word[0] for word in vocab]"
   ]
  },
  {
   "cell_type": "code",
   "execution_count": 10,
   "metadata": {},
   "outputs": [
    {
     "name": "stdout",
     "output_type": "stream",
     "text": [
      "Collecting git+https://github.com/JonathanRaiman/glove.git\n",
      "  Cloning https://github.com/JonathanRaiman/glove.git to /tmp/pip-req-build-da_sf477\n",
      "Requirement already satisfied (use --upgrade to upgrade): glove==1.0.1 from git+https://github.com/JonathanRaiman/glove.git in /home/chee/anaconda3/lib/python3.6/site-packages\n",
      "Requirement already satisfied: cython in /home/chee/anaconda3/lib/python3.6/site-packages (from glove==1.0.1) (0.27.3)\n",
      "Requirement already satisfied: numpy in /home/chee/anaconda3/lib/python3.6/site-packages (from glove==1.0.1) (1.14.0)\n",
      "Building wheels for collected packages: glove\n",
      "  Running setup.py bdist_wheel for glove ... \u001b[?25ldone\n",
      "\u001b[?25h  Stored in directory: /tmp/pip-ephem-wheel-cache-rcaofppt/wheels/e4/ea/7c/0e887c01470d73c6b0f3395891804fc2923caca44dd76cdedc\n",
      "Successfully built glove\n",
      "\u001b[33mYou are using pip version 18.0, however version 19.1 is available.\n",
      "You should consider upgrading via the 'pip install --upgrade pip' command.\u001b[0m\n"
     ]
    }
   ],
   "source": [
    "!pip install git+https://github.com/JonathanRaiman/glove.git"
   ]
  },
  {
   "cell_type": "code",
   "execution_count": 11,
   "metadata": {},
   "outputs": [
    {
     "name": "stdout",
     "output_type": "stream",
     "text": [
      "epoch 0, error 0.010\n",
      "epoch 1, error 0.008\n",
      "epoch 2, error 0.006\n",
      "epoch 3, error 0.006\n",
      "epoch 4, error 0.006\n",
      "epoch 5, error 0.005\n",
      "epoch 6, error 0.005\n",
      "epoch 7, error 0.005\n",
      "epoch 8, error 0.005\n",
      "epoch 9, error 0.005\n",
      "epoch 10, error 0.005\n",
      "epoch 11, error 0.005\n",
      "epoch 12, error 0.004\n",
      "epoch 13, error 0.004\n",
      "epoch 14, error 0.004\n",
      "epoch 15, error 0.004\n",
      "epoch 16, error 0.004\n",
      "epoch 17, error 0.004\n",
      "epoch 18, error 0.004\n",
      "epoch 19, error 0.004\n",
      "epoch 20, error 0.004\n",
      "epoch 21, error 0.003\n",
      "epoch 22, error 0.003\n",
      "epoch 23, error 0.003\n",
      "epoch 24, error 0.003\n"
     ]
    }
   ],
   "source": [
    "# training\n",
    "import glove\n",
    "model = glove.Glove(dic, d=100, alpha=0.75, x_max=100.0)\n",
    "for epoch in range(25):\n",
    "    err = model.train(batch_size=200, workers=4)\n",
    "    print(\"epoch %d, error %.3f\" % (epoch, err), flush=True)"
   ]
  },
  {
   "cell_type": "code",
   "execution_count": 12,
   "metadata": {},
   "outputs": [
    {
     "data": {
      "text/plain": [
       "<glove.glove.Glove at 0x7f4167dc16a0>"
      ]
     },
     "execution_count": 12,
     "metadata": {},
     "output_type": "execute_result"
    }
   ],
   "source": [
    "embedding_model = model\n",
    "embedding_model"
   ]
  },
  {
   "cell_type": "code",
   "execution_count": 13,
   "metadata": {},
   "outputs": [
    {
     "data": {
      "text/plain": [
       "11940"
      ]
     },
     "execution_count": 13,
     "metadata": {},
     "output_type": "execute_result"
    }
   ],
   "source": [
    "len(vectorizer.vocabulary_)"
   ]
  },
  {
   "cell_type": "code",
   "execution_count": 14,
   "metadata": {},
   "outputs": [
    {
     "data": {
      "text/plain": [
       "(11940, 100)"
      ]
     },
     "execution_count": 14,
     "metadata": {},
     "output_type": "execute_result"
    }
   ],
   "source": [
    "embedding_model.W.shape"
   ]
  },
  {
   "cell_type": "code",
   "execution_count": 16,
   "metadata": {},
   "outputs": [],
   "source": [
    "textCNN_model = TextCNN(vocab_size=embedding_model.W.shape[0], \n",
    "                        embed_size=embedding_model.W.shape[1], \n",
    "                        kernel_sizes=[3,4,5],\n",
    "                        num_channels=[100, 100, 100])"
   ]
  },
  {
   "cell_type": "code",
   "execution_count": 21,
   "metadata": {},
   "outputs": [],
   "source": [
    "textCNN_model.initialize(init.Xavier())\n",
    "textCNN_model.embedding.weight.set_data(embedding_model.W)\n",
    "textCNN_model.collect_params().setattr('grad_req','null')"
   ]
  },
  {
   "cell_type": "code",
   "execution_count": 22,
   "metadata": {},
   "outputs": [
    {
     "name": "stdout",
     "output_type": "stream",
     "text": [
      "Collecting d2l\n",
      "  Downloading https://files.pythonhosted.org/packages/64/5c/951071157d1dbb36e771a2ca38a38fee4d6af4951776ff44f7a2dc3d07f0/d2l-0.9.2-py3-none-any.whl\n",
      "Requirement already satisfied: jupyter in /home/chee/anaconda3/lib/python3.6/site-packages (from d2l) (1.0.0)\n",
      "Requirement already satisfied: numpy in /home/chee/anaconda3/lib/python3.6/site-packages (from d2l) (1.14.0)\n",
      "Requirement already satisfied: pandas in /home/chee/anaconda3/lib/python3.6/site-packages (from d2l) (0.22.0)\n",
      "Requirement already satisfied: matplotlib in /home/chee/anaconda3/lib/python3.6/site-packages (from d2l) (2.1.2)\n",
      "Requirement already satisfied: notebook in /home/chee/anaconda3/lib/python3.6/site-packages (from jupyter->d2l) (5.4.0)\n",
      "Requirement already satisfied: qtconsole in /home/chee/anaconda3/lib/python3.6/site-packages (from jupyter->d2l) (4.3.1)\n",
      "Requirement already satisfied: jupyter-console in /home/chee/anaconda3/lib/python3.6/site-packages (from jupyter->d2l) (5.2.0)\n",
      "Requirement already satisfied: nbconvert in /home/chee/anaconda3/lib/python3.6/site-packages (from jupyter->d2l) (5.3.1)\n",
      "Requirement already satisfied: ipykernel in /home/chee/anaconda3/lib/python3.6/site-packages (from jupyter->d2l) (4.8.0)\n",
      "Requirement already satisfied: ipywidgets in /home/chee/anaconda3/lib/python3.6/site-packages (from jupyter->d2l) (7.1.1)\n",
      "Requirement already satisfied: python-dateutil>=2 in /home/chee/anaconda3/lib/python3.6/site-packages (from pandas->d2l) (2.6.1)\n",
      "Requirement already satisfied: pytz>=2011k in /home/chee/anaconda3/lib/python3.6/site-packages (from pandas->d2l) (2017.3)\n",
      "Requirement already satisfied: six>=1.10 in /home/chee/anaconda3/lib/python3.6/site-packages (from matplotlib->d2l) (1.11.0)\n",
      "Requirement already satisfied: cycler>=0.10 in /home/chee/anaconda3/lib/python3.6/site-packages (from matplotlib->d2l) (0.10.0)\n",
      "Requirement already satisfied: pyparsing!=2.0.4,!=2.1.2,!=2.1.6,>=2.0.1 in /home/chee/anaconda3/lib/python3.6/site-packages (from matplotlib->d2l) (2.2.0)\n",
      "Requirement already satisfied: jinja2 in /home/chee/anaconda3/lib/python3.6/site-packages (from notebook->jupyter->d2l) (2.10)\n",
      "Requirement already satisfied: tornado>=4 in /home/chee/anaconda3/lib/python3.6/site-packages (from notebook->jupyter->d2l) (4.5.3)\n",
      "Requirement already satisfied: ipython_genutils in /home/chee/anaconda3/lib/python3.6/site-packages (from notebook->jupyter->d2l) (0.2.0)\n",
      "Requirement already satisfied: traitlets>=4.2.1 in /home/chee/anaconda3/lib/python3.6/site-packages (from notebook->jupyter->d2l) (4.3.2)\n",
      "Requirement already satisfied: jupyter_core>=4.4.0 in /home/chee/anaconda3/lib/python3.6/site-packages (from notebook->jupyter->d2l) (4.4.0)\n",
      "Requirement already satisfied: jupyter_client>=5.2.0 in /home/chee/anaconda3/lib/python3.6/site-packages (from notebook->jupyter->d2l) (5.2.2)\n",
      "Requirement already satisfied: nbformat in /home/chee/anaconda3/lib/python3.6/site-packages (from notebook->jupyter->d2l) (4.4.0)\n",
      "Requirement already satisfied: Send2Trash in /home/chee/anaconda3/lib/python3.6/site-packages (from notebook->jupyter->d2l) (1.4.2)\n",
      "Requirement already satisfied: terminado>=0.8.1 in /home/chee/anaconda3/lib/python3.6/site-packages (from notebook->jupyter->d2l) (0.8.1)\n",
      "Requirement already satisfied: ipython in /home/chee/anaconda3/lib/python3.6/site-packages (from jupyter-console->jupyter->d2l) (6.2.1)\n",
      "Requirement already satisfied: prompt_toolkit<2.0.0,>=1.0.0 in /home/chee/anaconda3/lib/python3.6/site-packages (from jupyter-console->jupyter->d2l) (1.0.15)\n",
      "Requirement already satisfied: pygments in /home/chee/anaconda3/lib/python3.6/site-packages (from jupyter-console->jupyter->d2l) (2.2.0)\n",
      "Requirement already satisfied: mistune>=0.7.4 in /home/chee/anaconda3/lib/python3.6/site-packages (from nbconvert->jupyter->d2l) (0.8.3)\n",
      "Requirement already satisfied: entrypoints>=0.2.2 in /home/chee/anaconda3/lib/python3.6/site-packages (from nbconvert->jupyter->d2l) (0.2.3)\n",
      "Requirement already satisfied: bleach in /home/chee/anaconda3/lib/python3.6/site-packages (from nbconvert->jupyter->d2l) (1.5.0)\n",
      "Requirement already satisfied: pandocfilters>=1.4.1 in /home/chee/anaconda3/lib/python3.6/site-packages (from nbconvert->jupyter->d2l) (1.4.2)\n",
      "Requirement already satisfied: testpath in /home/chee/anaconda3/lib/python3.6/site-packages (from nbconvert->jupyter->d2l) (0.3.1)\n",
      "Requirement already satisfied: widgetsnbextension~=3.1.0 in /home/chee/anaconda3/lib/python3.6/site-packages (from ipywidgets->jupyter->d2l) (3.1.0)\n",
      "Requirement already satisfied: MarkupSafe>=0.23 in /home/chee/anaconda3/lib/python3.6/site-packages (from jinja2->notebook->jupyter->d2l) (1.0)\n",
      "Requirement already satisfied: decorator in /home/chee/anaconda3/lib/python3.6/site-packages (from traitlets>=4.2.1->notebook->jupyter->d2l) (4.2.1)\n",
      "Requirement already satisfied: pyzmq>=13 in /home/chee/anaconda3/lib/python3.6/site-packages (from jupyter_client>=5.2.0->notebook->jupyter->d2l) (16.0.3)\n",
      "Requirement already satisfied: jsonschema!=2.5.0,>=2.4 in /home/chee/anaconda3/lib/python3.6/site-packages (from nbformat->notebook->jupyter->d2l) (2.6.0)\n",
      "Requirement already satisfied: setuptools>=18.5 in /home/chee/anaconda3/lib/python3.6/site-packages (from ipython->jupyter-console->jupyter->d2l) (38.4.0)\n",
      "Requirement already satisfied: jedi>=0.10 in /home/chee/anaconda3/lib/python3.6/site-packages (from ipython->jupyter-console->jupyter->d2l) (0.11.1)\n",
      "Requirement already satisfied: pickleshare in /home/chee/anaconda3/lib/python3.6/site-packages (from ipython->jupyter-console->jupyter->d2l) (0.7.4)\n",
      "Requirement already satisfied: simplegeneric>0.8 in /home/chee/anaconda3/lib/python3.6/site-packages (from ipython->jupyter-console->jupyter->d2l) (0.8.1)\n",
      "Requirement already satisfied: pexpect in /home/chee/anaconda3/lib/python3.6/site-packages (from ipython->jupyter-console->jupyter->d2l) (4.3.1)\n",
      "Requirement already satisfied: wcwidth in /home/chee/anaconda3/lib/python3.6/site-packages (from prompt_toolkit<2.0.0,>=1.0.0->jupyter-console->jupyter->d2l) (0.1.7)\n",
      "Requirement already satisfied: html5lib!=0.9999,!=0.99999,<0.99999999,>=0.999 in /home/chee/anaconda3/lib/python3.6/site-packages (from bleach->nbconvert->jupyter->d2l) (0.9999999)\n",
      "Requirement already satisfied: parso==0.1.* in /home/chee/anaconda3/lib/python3.6/site-packages (from jedi>=0.10->ipython->jupyter-console->jupyter->d2l) (0.1.1)\n",
      "Installing collected packages: d2l\n",
      "Successfully installed d2l-0.9.2\n",
      "\u001b[33mYou are using pip version 18.0, however version 19.1 is available.\n",
      "You should consider upgrading via the 'pip install --upgrade pip' command.\u001b[0m\n"
     ]
    }
   ],
   "source": [
    "!pip install d2l"
   ]
  },
  {
   "cell_type": "code",
   "execution_count": 23,
   "metadata": {},
   "outputs": [],
   "source": [
    "lr, num_epochs = 0.001, 5\n",
    "trainer = gluon.Trainer(textCNN_model.collect_params(), 'adam', {'learning_rate': lr})\n",
    "loss = gloss.SoftmaxCrossEntropyLoss()"
   ]
  },
  {
   "cell_type": "code",
   "execution_count": null,
   "metadata": {},
   "outputs": [],
   "source": []
  }
 ],
 "metadata": {
  "kernelspec": {
   "display_name": "Python 3",
   "language": "python",
   "name": "python3"
  },
  "language_info": {
   "codemirror_mode": {
    "name": "ipython",
    "version": 3
   },
   "file_extension": ".py",
   "mimetype": "text/x-python",
   "name": "python",
   "nbconvert_exporter": "python",
   "pygments_lexer": "ipython3",
   "version": "3.6.4"
  }
 },
 "nbformat": 4,
 "nbformat_minor": 2
}
